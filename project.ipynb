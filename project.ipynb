{
 "cells": [
  {
   "cell_type": "code",
   "execution_count": 109,
   "metadata": {
    "ExecuteTime": {
     "end_time": "2019-10-23T20:45:17.128210Z",
     "start_time": "2019-10-23T20:45:17.104103Z"
    }
   },
   "outputs": [],
   "source": [
    "import numpy as np\n",
    "import matplotlib.pyplot as plt\n",
    "%matplotlib inline\n",
    "plt.rcParams['figure.figsize'] = (10,8)"
   ]
  },
  {
   "cell_type": "markdown",
   "metadata": {},
   "source": [
    "# Experiment setup"
   ]
  },
  {
   "cell_type": "code",
   "execution_count": 409,
   "metadata": {
    "ExecuteTime": {
     "end_time": "2019-10-24T00:28:47.032950Z",
     "start_time": "2019-10-24T00:28:47.004338Z"
    }
   },
   "outputs": [],
   "source": [
    "def index_iter(n_dim, n_discr):\n",
    "    \"\"\"\n",
    "    iterates through index tuples of n_dim dimentional cube with n_discr elements on each axis\n",
    "    \"\"\"\n",
    "    powers = np.array([n_discr**i for i in range(n_dim)])\n",
    "    powers_inc = n_discr*powers\n",
    "    for i in range(n_discr**n_dim):\n",
    "        yield ((i % powers_inc - i % powers)/powers).astype(np.int32)\n",
    "\n",
    "        \n",
    "def radial_fun(r,ri,sigma=0.15):\n",
    "    return np.exp(-.5*(np.linalg.norm(r - ri)/sigma)**2)\n",
    "\n",
    "class TaskSetup:\n",
    "    def __init__(self, n_dim=3, n_discr=10, n_p=9, seed=42):\n",
    "        \"\"\"\n",
    "        n_dim: dimentionality of the unit cube (equation domain), should be 3 for now\n",
    "        n_discr: discretization of the unit cube\n",
    "        n_p: number of radial functions\n",
    "        \"\"\"\n",
    "        self.n_dim = n_dim\n",
    "        self.n_discr = n_discr\n",
    "        self.n_p = n_p\n",
    "        self.discr_row = np.linspace(0, 1, n_discr)\n",
    "        if seed is not None:\n",
    "            np.random.seed(seed)\n",
    "        \n",
    "        # generate permability field\n",
    "        self.ri = np.random.rand(n_p, n_dim) #centers of radial functions\n",
    "        self.x = np.random.rand(n_p) #true parameters\n",
    "        \n",
    "        self.bi = np.zeros([n_p] + [n_discr]*n_dim) # radial functions \n",
    "        \n",
    "        \n",
    "        for i in range(n_p):\n",
    "            for ind in index_iter(n_dim, n_discr):\n",
    "                r = np.array([self.discr_row[i] for i in ind])\n",
    "                val = radial_fun(r, self.ri[i])\n",
    "                arr_ind = tuple(((k) for k in ind))\n",
    "                self.bi[i][arr_ind] = val \n",
    "    \n",
    "        self.K = self.eval_perm_field(self.x) # true permability field\n",
    "        \n",
    "        # generate sources\n",
    "        self.Q = np.zeros([n_discr]*n_dim)\n",
    "        for ind in index_iter(n_dim, n_discr):\n",
    "            r = np.array([self.discr_row[i] for i in ind])\n",
    "            val = 0\n",
    "            for center in index_iter(n_dim, 2):\n",
    "                center = center*0.4 + 0.3 # place sources in the corners \n",
    "                val += radial_fun(r, center, 0.05)\n",
    "            arr_ind = tuple(((k) for k in ind))\n",
    "            self.Q[arr_ind] = val \n",
    "    \n",
    "    def eval_perm_field(self, x):\n",
    "        return np.tensordot(self.bi, x, ((0),(0)))\n",
    "    \n",
    "    def eval_u_x(self, x, u):\n",
    "        K = self.eval_perm_field(x)\n",
    "        phi = [K*grad for grad in np.gradient(u)]\n",
    "        return sum([np.gradient(elem, axis=i) for i, elem in enumerate(phi)]) + self.Q\n",
    "    \n",
    "    def basis_projection_solution(self, x, U):\n",
    "        \"\"\"\n",
    "        U supposed to be the list of previously calculated u values of shape (n_discr x n_discr x ...)\n",
    "        \"\"\"\n",
    "        K = self.eval_perm_field(x)\n",
    "        A = []\n",
    "        for u in U:\n",
    "            phi = [K*grad for grad in np.gradient(u)]\n",
    "            new_vec = sum([np.gradient(elem, axis=i) for i, elem in enumerate(phi)])\n",
    "            A.append(new_vec.flatten())\n",
    "        U = np.vstack(U)\n",
    "        A = U.T @ np.vstack(A).T\n",
    "        b = U @ self.Q.flatten()\n",
    "        coeffs = np.linalg.lstsq(A, b)\n",
    "        return coeffs"
   ]
  },
  {
   "cell_type": "code",
   "execution_count": 410,
   "metadata": {
    "ExecuteTime": {
     "end_time": "2019-10-24T00:28:48.303571Z",
     "start_time": "2019-10-24T00:28:47.821675Z"
    }
   },
   "outputs": [],
   "source": [
    "task = TaskSetup(2, 40, 8)"
   ]
  },
  {
   "cell_type": "code",
   "execution_count": 411,
   "metadata": {
    "ExecuteTime": {
     "end_time": "2019-10-24T00:28:48.705574Z",
     "start_time": "2019-10-24T00:28:48.305709Z"
    }
   },
   "outputs": [
    {
     "data": {
      "text/plain": [
       "Text(0.5, 1.0, 'true sources field')"
      ]
     },
     "execution_count": 411,
     "metadata": {},
     "output_type": "execute_result"
    },
    {
     "data": {
      "image/png": "[encoded data removed]",
      "text/plain": [
       "<Figure size 720x576 with 2 Axes>"
      ]
     },
     "metadata": {
      "needs_background": "light"
     },
     "output_type": "display_data"
    }
   ],
   "source": [
    "_, (ax1, ax2) = plt.subplots(1, 2)\n",
    "ret = ax1.imshow(task.K); ax1.set_title('true premability field')\n",
    "ax2.imshow(task.Q); ax2.set_title('true sources field')"
   ]
  },
  {
   "cell_type": "code",
   "execution_count": 412,
   "metadata": {
    "ExecuteTime": {
     "end_time": "2019-10-24T00:28:48.721409Z",
     "start_time": "2019-10-24T00:28:48.707391Z"
    }
   },
   "outputs": [
    {
     "data": {
      "text/plain": [
       "(40, 40)"
      ]
     },
     "execution_count": 412,
     "metadata": {},
     "output_type": "execute_result"
    }
   ],
   "source": [
    "task.eval_u_x(np.random.rand(len(task.x)), np.random.rand(*task.K.shape)).shape"
   ]
  },
  {
   "cell_type": "code",
   "execution_count": 419,
   "metadata": {
    "ExecuteTime": {
     "end_time": "2019-10-24T00:41:25.129834Z",
     "start_time": "2019-10-24T00:41:25.122131Z"
    }
   },
   "outputs": [],
   "source": [
    "from scipy.optimize import minimize\n",
    "\n",
    "def opt(u):\n",
    "#     print('here ', opt.i)\n",
    "#     opt.i += 1\n",
    "    u = u.reshape(*task.K.shape)\n",
    "    res = np.linalg.norm(task.eval_u_x(task.x, u))\n",
    "    return res\n",
    "\n",
    "# opt.i = 0"
   ]
  },
  {
   "cell_type": "code",
   "execution_count": null,
   "metadata": {
    "ExecuteTime": {
     "start_time": "2019-10-24T01:31:44.085Z"
    }
   },
   "outputs": [],
   "source": [
    "res = minimize(opt, np.random.rand(np.prod(task.K.shape)), options={'maxiter': 1000, 'disp': True})\n",
    "res"
   ]
  },
  {
   "cell_type": "code",
   "execution_count": null,
   "metadata": {},
   "outputs": [],
   "source": []
  },
  {
   "cell_type": "markdown",
   "metadata": {},
   "source": [
    "# Basis orthogonalization"
   ]
  },
  {
   "cell_type": "code",
   "execution_count": 277,
   "metadata": {
    "ExecuteTime": {
     "end_time": "2019-10-23T22:16:15.181837Z",
     "start_time": "2019-10-23T22:16:15.167083Z"
    }
   },
   "outputs": [],
   "source": [
    "def orthonormal(vectors):\n",
    "    \"\"\"\n",
    "    turn list of vectors to basis vectors\n",
    "    \"\"\"\n",
    "    Q = np.vstack(vectors).T\n",
    "    Q, _ = np.linalg.qr(Q)\n",
    "    vectors = (Q / np.linalg.norm(Q, axis=0)).T\n",
    "    return vectors\n",
    "\n",
    "n_vec = 3\n",
    "n_dim = 5\n",
    "X = list(np.random.rand(n_vec, n_dim))\n",
    "q = orthonormal(X) \n",
    "assert np.allclose(np.linalg.norm(q, axis=1), np.ones(n_vec))\n",
    "assert np.allclose(np.diag(q @ q.T), np.ones(n_vec))\n",
    "# print(np.linalg.norm(q, axis=1), np.diag(q @ q.T))"
   ]
  },
  {
   "cell_type": "markdown",
   "metadata": {},
   "source": [
    "# Metropolis–Hastings algorithm"
   ]
  },
  {
   "cell_type": "code",
   "execution_count": 385,
   "metadata": {
    "ExecuteTime": {
     "end_time": "2019-10-23T23:55:10.924033Z",
     "start_time": "2019-10-23T23:55:10.507842Z"
    }
   },
   "outputs": [
    {
     "data": {
      "image/png": "[encoded data removed]",
      "text/plain": [
       "<Figure size 720x576 with 1 Axes>"
      ]
     },
     "metadata": {
      "needs_background": "light"
     },
     "output_type": "display_data"
    }
   ],
   "source": [
    "from scipy.stats import norm\n",
    "from functools import partial\n",
    "\n",
    "def normal_sampler(x, n_discr, sigma=.1):\n",
    "    ret = []\n",
    "    for ind in x:\n",
    "        new_ind = norm.ppf(np.random.random(1), loc=ind, scale=sigma*n_discr).astype(int)   \n",
    "        ret.append(np.clip(new_ind[0], 0, n_discr-1))\n",
    "    return np.array(ret)\n",
    "    \n",
    "if task.n_dim == 2:\n",
    "    X = np.zeros_like(task.K)\n",
    "    x = np.array([15, 25])\n",
    "    f = partial(normal_sampler, n_discr=task.n_discr, sigma=0.05)\n",
    "\n",
    "    for _ in range(1000):\n",
    "        x_new = f(x)\n",
    "        ind1, ind2 = x_new\n",
    "        X[ind1, ind2] += 1\n",
    "\n",
    "    plt.imshow(X)"
   ]
  },
  {
   "cell_type": "code",
   "execution_count": 399,
   "metadata": {
    "ExecuteTime": {
     "end_time": "2019-10-24T00:05:32.790827Z",
     "start_time": "2019-10-24T00:04:44.508424Z"
    }
   },
   "outputs": [
    {
     "data": {
      "image/png": "[encoded data removed]",
      "text/plain": [
       "<Figure size 720x576 with 1 Axes>"
      ]
     },
     "metadata": {
      "needs_background": "light"
     },
     "output_type": "display_data"
    },
    {
     "name": "stdout",
     "output_type": "stream",
     "text": [
      "23 17\n"
     ]
    },
    {
     "ename": "KeyboardInterrupt",
     "evalue": "",
     "output_type": "error",
     "traceback": [
      "\u001b[0;31m---------------------------------------------------------------------------\u001b[0m",
      "\u001b[0;31mKeyboardInterrupt\u001b[0m                         Traceback (most recent call last)",
      "\u001b[0;32m<ipython-input-399-99f684d38e4c>\u001b[0m in \u001b[0;36m<module>\u001b[0;34m\u001b[0m\n\u001b[1;32m     47\u001b[0m         \u001b[0mplt\u001b[0m\u001b[0;34m.\u001b[0m\u001b[0mshow\u001b[0m\u001b[0;34m(\u001b[0m\u001b[0;34m)\u001b[0m\u001b[0;34m\u001b[0m\u001b[0;34m\u001b[0m\u001b[0m\n\u001b[1;32m     48\u001b[0m         \u001b[0mprint\u001b[0m\u001b[0;34m(\u001b[0m\u001b[0mlen\u001b[0m\u001b[0;34m(\u001b[0m\u001b[0maccepted\u001b[0m\u001b[0;34m)\u001b[0m\u001b[0;34m,\u001b[0m \u001b[0mlen\u001b[0m\u001b[0;34m(\u001b[0m\u001b[0mrejected\u001b[0m\u001b[0;34m)\u001b[0m\u001b[0;34m)\u001b[0m\u001b[0;34m\u001b[0m\u001b[0;34m\u001b[0m\u001b[0m\n\u001b[0;32m---> 49\u001b[0;31m         \u001b[0msleep\u001b[0m\u001b[0;34m(\u001b[0m\u001b[0;36m1\u001b[0m\u001b[0;34m)\u001b[0m\u001b[0;34m\u001b[0m\u001b[0;34m\u001b[0m\u001b[0m\n\u001b[0m",
      "\u001b[0;31mKeyboardInterrupt\u001b[0m: "
     ]
    }
   ],
   "source": [
    "from IPython.display import clear_output\n",
    "from time import sleep\n",
    "\n",
    "def metropolis_step(x, pi, q):\n",
    "    \"\"\"\n",
    "    x: previous x (expected to be array of indexes)\n",
    "    pi: pi(r), estimated distribution\n",
    "    q: q(), sampling function, assumed to be symmetric\n",
    "    \n",
    "    returns: new_x (array of indexes), bool value (True if accepted)\n",
    "    \"\"\"\n",
    "    new_x = q(x)\n",
    "    old_ind = tuple(((k) for k in x))\n",
    "    new_ind = tuple(((k) for k in new_x))\n",
    "    alpha = min(1, pi[new_ind]/pi[old_ind])\n",
    "#     print(alpha)\n",
    "    if np.random.rand() < alpha:\n",
    "        return new_x, True\n",
    "    else:\n",
    "        return new_x, False\n",
    "\n",
    "if task.n_dim == 2:\n",
    "    pi = task.K**2 \n",
    "    x = np.array([35, 5])\n",
    "    accepted = [x]\n",
    "    rejected = []\n",
    "    for _ in range(100):\n",
    "        f = partial(normal_sampler, n_discr=task.n_discr, sigma=0.1)\n",
    "        x_new, res = metropolis_step(x, pi, f)\n",
    "#         x_new, res = f(x), True\n",
    "        if res:\n",
    "            accepted.append(x_new)\n",
    "            x = x_new\n",
    "        else:\n",
    "            rejected.append(x_new)\n",
    "            \n",
    "        plt.imshow(pi)\n",
    "        if len(accepted) > 2:\n",
    "            accepted_ = np.array(accepted)\n",
    "            \n",
    "            plt.plot(accepted_[:,1], accepted_[:,0], 'yo-')\n",
    "#             plt.plot(accepted_[:,1], accepted_[:,0], 'y')\n",
    "        if len(rejected) > 2:\n",
    "            rejected_ = np.array(rejected)\n",
    "            plt.scatter(rejected_[:,1], rejected_[:,0], color='r', s=3)\n",
    "        clear_output()\n",
    "        plt.show()\n",
    "        print(len(accepted), len(rejected))\n",
    "        sleep(1)"
   ]
  },
  {
   "cell_type": "code",
   "execution_count": 402,
   "metadata": {
    "ExecuteTime": {
     "end_time": "2019-10-24T00:22:22.583947Z",
     "start_time": "2019-10-24T00:22:22.575286Z"
    }
   },
   "outputs": [
    {
     "data": {
      "text/plain": [
       "(3, 3, 3)"
      ]
     },
     "execution_count": 402,
     "metadata": {},
     "output_type": "execute_result"
    }
   ],
   "source": [
    "np.gradient(np.random.rand(3, 3, 3))[0].shape"
   ]
  },
  {
   "cell_type": "code",
   "execution_count": null,
   "metadata": {},
   "outputs": [],
   "source": []
  }
 ],
 "metadata": {
  "kernelspec": {
   "display_name": "Python 3",
   "language": "python",
   "name": "python3"
  },
  "language_info": {
   "codemirror_mode": {
    "name": "ipython",
    "version": 3
   },
   "file_extension": ".py",
   "mimetype": "text/x-python",
   "name": "python",
   "nbconvert_exporter": "python",
   "pygments_lexer": "ipython3",
   "version": "3.7.3"
  },
  "toc": {
   "base_numbering": 1,
   "nav_menu": {},
   "number_sections": true,
   "sideBar": true,
   "skip_h1_title": false,
   "title_cell": "Table of Contents",
   "title_sidebar": "Contents",
   "toc_cell": false,
   "toc_position": {},
   "toc_section_display": true,
   "toc_window_display": false
  }
 },
 "nbformat": 4,
 "nbformat_minor": 2
}
